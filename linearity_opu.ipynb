{
 "cells": [
  {
   "cell_type": "code",
   "execution_count": 1,
   "metadata": {},
   "outputs": [],
   "source": [
    "import numpy as np\n",
    "import matplotlib.pyplot as plt\n",
    "from tqdm import tqdm\n",
    "\n",
    "from lightonopu.opu import OPU\n",
    "from lightonml.random_projections.opu import OPURandomMapping"
   ]
  },
  {
   "cell_type": "code",
   "execution_count": 2,
   "metadata": {},
   "outputs": [],
   "source": [
    "def make_x1_x2(n):\n",
    "    x1 = np.random.choice([0,1], size=n**2, p=[0.75,0.25])\n",
    "    x2 = np.random.choice([0,1], size=n**2, p=[0.5,0.5])\n",
    "    \n",
    "    x2[x1>0] = 0\n",
    "    \n",
    "    xs = np.vstack((x1,x2, x1+x2))\n",
    "    \n",
    "    return xs\n",
    "    \n",
    "def make_anchors(n, xs, number_of_anchors):\n",
    "    anchors = np.zeros([number_of_anchors, n**2])\n",
    "    \n",
    "    anchor_p = [0.8,0.2]\n",
    "    anchors[0] = np.random.choice([0,1], size=n**2, p=anchor_p) + xs[2]\n",
    "    \n",
    "    for i in range(1, number_of_anchors):\n",
    "        anchors[i] = np.random.choice([0,1], size=n**2, p=anchor_p) + anchors[i-1]\n",
    "\n",
    "    anchors[anchors>0] = 1\n",
    "    anchors = anchors[::-1] # for convenience\n",
    "    \n",
    "    return anchors\n",
    "\n",
    "def interfere_with_anchors(n, x, anchors):\n",
    "    interfered = anchors - x\n",
    "    interfered = np.vstack((interfered, x)) # x with zero (zero is less than x so subtract the other way)\n",
    "    \n",
    "    anchors = np.vstack((anchors, np.zeros(n**2))) # zero is an anchor too\n",
    "    \n",
    "    for i in range(anchors.shape[0]-1):\n",
    "        diffs = anchors[i] - anchors[1+i:]\n",
    "        interfered = np.vstack((interfered, diffs))\n",
    "    \n",
    "    return interfered"
   ]
  },
  {
   "cell_type": "code",
   "execution_count": 3,
   "metadata": {},
   "outputs": [],
   "source": [
    "image_size = 64\n",
    "number_of_anchors = 15\n",
    "num_of_rows_in_A = 100\n",
    "\n",
    "xs = make_x1_x2(image_size)\n",
    "anchors = make_anchors(image_size, xs, number_of_anchors)\n",
    "\n",
    "x1_inter = interfere_with_anchors(image_size, xs[0], anchors)\n",
    "x2_inter = interfere_with_anchors(image_size, xs[1], anchors)\n",
    "x1_plus_x2_inter = interfere_with_anchors(image_size, xs[2], anchors)\n",
    "\n",
    "opu_input = np.vstack((x1_inter, x2_inter, x1_plus_x2_inter))"
   ]
  },
  {
   "cell_type": "code",
   "execution_count": 4,
   "metadata": {},
   "outputs": [
    {
     "name": "stderr",
     "output_type": "stream",
     "text": [
      "\r",
      "OPU transform:   0%|          | 0/408 [00:00<?, ?it/s]"
     ]
    },
    {
     "name": "stdout",
     "output_type": "stream",
     "text": [
      "OPU: random projections of an array of size (408,4096)\n"
     ]
    },
    {
     "name": "stderr",
     "output_type": "stream",
     "text": [
      "OPU transform: 100%|██████████| 408/408 [00:01<00:00, 362.36it/s]\n"
     ]
    },
    {
     "name": "stdout",
     "output_type": "stream",
     "text": [
      "Max value: 231\n",
      "Min value:  6\n"
     ]
    }
   ],
   "source": [
    "def get_OPU_measurements(opu_input, num_rand_proj):\n",
    "    opu = OPU(500, 275) # exposure needs to be chosen so that there is no saturation.\n",
    "    mapping = OPURandomMapping(opu, n_components=num_rand_proj)\n",
    "    y = mapping.fit_transform(opu_input.astype('uint8'))\n",
    "    print ('Max value:', np.max(y))\n",
    "    print ('Min value: ', np.min(y))\n",
    "    \n",
    "    return y\n",
    "\n",
    "y_quant = get_OPU_measurements(opu_input, num_of_rows_in_A)"
   ]
  },
  {
   "cell_type": "code",
   "execution_count": 5,
   "metadata": {},
   "outputs": [],
   "source": [
    "def make_D_ensembles(y, number_of_anchors):\n",
    "    num_elements = int((number_of_anchors+2)* (number_of_anchors+1) * 0.5)\n",
    "    \n",
    "    trials = y.shape[1]\n",
    "    dim = number_of_anchors+2\n",
    "    all_D_oracles_x1 = np.zeros([trials, dim, dim])\n",
    "    all_D_oracles_x2 = np.zeros([trials, dim, dim])\n",
    "    all_D_oracles_x1_plus_x2 = np.zeros([trials, dim, dim])\n",
    "    \n",
    "    ind = np.triu_indices(all_D_oracles_x1[0].shape[0], k=1)\n",
    "    for i in range(trials):\n",
    "        data = y[0:num_elements,i]\n",
    "        all_D_oracles_x1[i][ind] = data\n",
    "        all_D_oracles_x1[i] += all_D_oracles_x1[i].T\n",
    "        \n",
    "        data = y[num_elements: 2*num_elements,i]\n",
    "        all_D_oracles_x2[i][ind] = data\n",
    "        all_D_oracles_x2[i] += all_D_oracles_x2[i].T\n",
    "        \n",
    "        data = y[2*num_elements: 3*num_elements,i]\n",
    "        all_D_oracles_x1_plus_x2[i][ind] = data\n",
    "        all_D_oracles_x1_plus_x2[i] += all_D_oracles_x1_plus_x2[i].T\n",
    "        \n",
    "    return all_D_oracles_x1, all_D_oracles_x2, all_D_oracles_x1_plus_x2\n",
    "\n",
    "def do_MDS(D, number_of_anchors):\n",
    "    m = number_of_anchors\n",
    "    J = np.eye(m + 2) - 1. / (m + 2) * np.ones((m + 2, m + 2))\n",
    "    G = -1/2 * np.dot(J, D).dot(J)\n",
    "    U, s, VT = np.linalg.svd(G)\n",
    "    Z_est_R2 = np.dot(np.diag(np.sqrt(s[:2])), VT[:2, :])\n",
    "    Z_est_cpx = Z_est_R2[0, :] + 1j*Z_est_R2[1, :]\n",
    "    \n",
    "    # translate the origin back at (0, 0)\n",
    "    Z_est_cpx -= Z_est_cpx[m + 1]\n",
    "    \n",
    "    return Z_est_cpx\n",
    "\n",
    "def ortho_procrustes(fixed, modify):\n",
    "    fixed = np.vstack ((np.real(fixed[1:]), np.imag(fixed[1:])))\n",
    "    modify = np.vstack ((np.real(modify), np.imag(modify)))\n",
    "    original = modify.copy()\n",
    "    modify = modify[:,1:]\n",
    "    fixed_mean = (np.mean(fixed, axis=1)).reshape([-1,1])\n",
    "    fixed -= fixed_mean\n",
    "    modify_mean = (np.mean(modify, axis=1)).reshape([-1,1])\n",
    "    modify -= modify_mean\n",
    "    M = fixed @ modify.T\n",
    "    u, s, vh = np.linalg.svd(M)\n",
    "    R = u @ vh\n",
    "    original = R @ (original - modify_mean @ np.ones([1, original.shape[1]])) + fixed_mean@np.ones([1, original.shape[1]])\n",
    "    return original[0] + 1j*original[1]"
   ]
  },
  {
   "cell_type": "code",
   "execution_count": 6,
   "metadata": {},
   "outputs": [],
   "source": [
    "def make_LXX(X):\n",
    "    e = np.ones([X.shape[1],1])\n",
    "    G = X.T @ X\n",
    "    diag_vec = np.diag(G).reshape([-1,1])\n",
    "    L =  diag_vec @ e.T + e @ diag_vec.T - 2*G\n",
    "    return L\n",
    "    \n",
    "def gradient_descent_X(D, X_0, W):\n",
    "    lr = 0.001\n",
    "\n",
    "    if (np.isnan(lr)):\n",
    "        lr = 0\n",
    "    if (np.isinf(lr)):\n",
    "        lr = 0 \n",
    "\n",
    "    n_iter = 20\n",
    "    \n",
    "    N = X_0.shape[1]\n",
    "    e = np.ones([N,1])\n",
    "    \n",
    "    X = X_0.copy()\n",
    "    \n",
    "    for i in range(n_iter):\n",
    "        L = make_LXX(X)\n",
    "        P = D - L\n",
    "        P = W*P\n",
    "        grad = (1/N**2) * (8 * X @ (P - np.diag(np.diag(P @ e)) ))\n",
    "        X -= lr*grad\n",
    "\n",
    "    return X, L"
   ]
  },
  {
   "cell_type": "code",
   "execution_count": 7,
   "metadata": {
    "scrolled": true
   },
   "outputs": [
    {
     "name": "stderr",
     "output_type": "stream",
     "text": [
      "100%|██████████| 100/100 [00:03<00:00, 27.44it/s]\n"
     ]
    }
   ],
   "source": [
    "all_D_quant_x1, all_D_quant_x2, all_D_quant_x1_plus_x2 = make_D_ensembles(y_quant, number_of_anchors)\n",
    "    \n",
    "manual = np.zeros([num_of_rows_in_A, number_of_anchors+1-2]).astype('complex128')\n",
    "direct = np.zeros([num_of_rows_in_A, number_of_anchors+1-2]).astype('complex128')\n",
    "manual_gd = np.zeros([num_of_rows_in_A, number_of_anchors+1-2]).astype('complex128')\n",
    "direct_gd = np.zeros([num_of_rows_in_A, number_of_anchors+1-2]).astype('complex128')\n",
    "\n",
    "for trial in tqdm(range(num_of_rows_in_A)):\n",
    "    for i in range(2,number_of_anchors+1):\n",
    "        ind = np.random.choice(np.arange(1, number_of_anchors+1), i, replace=False)\n",
    "        ind = np.hstack((ind,0,number_of_anchors+1))\n",
    "        ind.sort()\n",
    "\n",
    "        D_quant_x1 = all_D_quant_x1[:,:,ind][trial][ind,:]\n",
    "        D_quant_x2 = all_D_quant_x2[:,:,ind][trial][ind,:]\n",
    "        D_quant_x1_plus_x2 = all_D_quant_x1_plus_x2[:,:,ind][trial][ind,:]\n",
    "\n",
    "        # normal MDS\n",
    "        recovered_points_x1 = do_MDS(D_quant_x1, i)\n",
    "        recovered_points_x2 = do_MDS(D_quant_x2, i)\n",
    "        recovered_points_x1_plus_x2 = do_MDS(D_quant_x1_plus_x2, i)\n",
    "        recovered_points_x2 = ortho_procrustes(recovered_points_x1, recovered_points_x2)\n",
    "        recovered_points_x1_plus_x2 = ortho_procrustes(recovered_points_x1, recovered_points_x1_plus_x2)\n",
    "\n",
    "        manual_sum = recovered_points_x1[0] + recovered_points_x2[0]\n",
    "        opu_sum = recovered_points_x1_plus_x2[0]\n",
    "        manual[trial, i-2] = manual_sum\n",
    "        direct[trial, i-2] = opu_sum\n",
    "\n",
    "        # grad descent\n",
    "        floor = np.min(y_quant)\n",
    "    \n",
    "        X_0 = np.vstack((np.real(recovered_points_x1), np.imag(recovered_points_x1)))\n",
    "        W = (D_quant_x1>floor).astype('float') + np.eye(D_quant_x1.shape[0])\n",
    "        X, L = gradient_descent_X(D_quant_x1, X_0, W)\n",
    "        recovered_points_x1 = X[0] + 1j*X[1]\n",
    "        recovered_points_x1 -= recovered_points_x1[-1]\n",
    "\n",
    "        X_0 = np.vstack((np.real(recovered_points_x2), np.imag(recovered_points_x2)))\n",
    "        W = (D_quant_x2>floor).astype('float') + np.eye(D_quant_x2.shape[0])\n",
    "        X, L = gradient_descent_X(D_quant_x2, X_0, W)\n",
    "        recovered_points_x2 = X[0] + 1j*X[1]\n",
    "        recovered_points_x2 -= recovered_points_x2[-1]\n",
    "\n",
    "        X_0 = np.vstack((np.real(recovered_points_x1_plus_x2), np.imag(recovered_points_x1_plus_x2)))\n",
    "        W = (D_quant_x1_plus_x2>floor).astype('float') + np.eye(D_quant_x1_plus_x2.shape[0])\n",
    "        X, L = gradient_descent_X(D_quant_x1_plus_x2, X_0, W)\n",
    "        recovered_points_x1_plus_x2 = X[0] + 1j*X[1]\n",
    "        recovered_points_x1_plus_x2 -= recovered_points_x1_plus_x2[-1]\n",
    "\n",
    "        recovered_points_x2 = ortho_procrustes(recovered_points_x1, recovered_points_x2)\n",
    "        recovered_points_x1_plus_x2 = ortho_procrustes(recovered_points_x1, recovered_points_x1_plus_x2)\n",
    "\n",
    "        manual_sum = recovered_points_x1[0] + recovered_points_x2[0]\n",
    "        opu_sum = recovered_points_x1_plus_x2[0]\n",
    "        manual_gd[trial, i-2] = manual_sum\n",
    "        direct_gd[trial, i-2] = opu_sum"
   ]
  },
  {
   "cell_type": "code",
   "execution_count": 8,
   "metadata": {
    "scrolled": true
   },
   "outputs": [
    {
     "data": {
      "image/png": "[encoded data removed]",
      "text/plain": [
       "<Figure size 360x288 with 1 Axes>"
      ]
     },
     "metadata": {
      "needs_background": "light"
     },
     "output_type": "display_data"
    }
   ],
   "source": [
    "mask = (np.abs(direct)>2).astype('int')\n",
    "mask_sum = (np.sum(mask, axis=0))\n",
    "\n",
    "mask_gd = (np.abs(direct_gd)>2).astype('int')\n",
    "mask_sum_gd = (np.sum(mask_gd, axis=0))\n",
    "\n",
    "anchors_for_plot = np.arange(2, number_of_anchors+1)\n",
    "rel_errors = 100*(np.abs(manual - direct) / np.abs(direct))\n",
    "rel_errors_gd = 100*(np.abs(manual_gd - direct_gd) / np.abs(direct_gd))\n",
    "plt.rcParams.update({'font.size': 14})\n",
    "plt.figure(figsize=(5,4))\n",
    "\n",
    "rel_errors = np.sum(rel_errors*mask, axis=0) / mask_sum\n",
    "rel_errors_gd = np.sum(rel_errors_gd*mask_gd, axis=0) /mask_sum_gd\n",
    "\n",
    "plt.plot(anchors_for_plot, rel_errors, label='MDS')\n",
    "plt.plot(anchors_for_plot, rel_errors_gd, label='MDS-GD')\n",
    "\n",
    "plt.ylabel('Average relative error (%)')\n",
    "plt.xlabel('Number of anchors')\n",
    "plt.legend()\n",
    "plt.tight_layout()"
   ]
  },
  {
   "cell_type": "code",
   "execution_count": null,
   "metadata": {},
   "outputs": [],
   "source": []
  }
 ],
 "metadata": {
  "kernelspec": {
   "display_name": "Python 3 (LightOn OPU)",
   "language": "python",
   "name": "lighton_python3"
  },
  "language_info": {
   "codemirror_mode": {
    "name": "ipython",
    "version": 3
   },
   "file_extension": ".py",
   "mimetype": "text/x-python",
   "name": "python",
   "nbconvert_exporter": "python",
   "pygments_lexer": "ipython3",
   "version": "3.5.2"
  }
 },
 "nbformat": 4,
 "nbformat_minor": 2
}
