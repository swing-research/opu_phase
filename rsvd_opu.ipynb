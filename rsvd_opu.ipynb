{
 "cells": [
  {
   "cell_type": "code",
   "execution_count": 1,
   "metadata": {},
   "outputs": [],
   "source": [
    "import numpy as np\n",
    "import matplotlib.pyplot as plt\n",
    "from scipy import linalg as lg\n",
    "import time\n",
    "from tqdm import tqdm\n",
    "\n",
    "from lightonopu.opu import OPU\n",
    "from lightonml.random_projections.opu import OPURandomMapping"
   ]
  },
  {
   "cell_type": "code",
   "execution_count": 2,
   "metadata": {},
   "outputs": [],
   "source": [
    "def cconj(A):\n",
    "    return np.conj(A.T)\n",
    "\n",
    "def do_MDS(D, number_of_anchors):\n",
    "    m = number_of_anchors\n",
    "    J = np.eye(m + 2) - 1. / (m + 2) * np.ones((m + 2, m + 2))\n",
    "    G = -1/2 * np.dot(J, D).dot(J)\n",
    "    U, s, VT = np.linalg.svd(G)\n",
    "    Z_est_R2 = np.dot(np.diag(np.sqrt(s[:2])), VT[:2, :])\n",
    "    Z_est_cpx = Z_est_R2[0, :] + 1j*Z_est_R2[1, :]\n",
    "    \n",
    "    # translate the origin back at (0, 0)\n",
    "    Z_est_cpx -= Z_est_cpx[m + 1]\n",
    "    \n",
    "    return Z_est_cpx\n",
    "\n",
    "def ortho_procrustes(fixed, modify):\n",
    "    fixed = np.vstack ((np.real(fixed[1:]), np.imag(fixed[1:])))\n",
    "    modify = np.vstack ((np.real(modify), np.imag(modify)))\n",
    "    original = modify.copy()\n",
    "    modify = modify[:,1:]\n",
    "    fixed_mean = (np.mean(fixed, axis=1)).reshape([-1,1])\n",
    "    fixed -= fixed_mean\n",
    "    modify_mean = (np.mean(modify, axis=1)).reshape([-1,1])\n",
    "    modify -= modify_mean\n",
    "    M = fixed @ modify.T\n",
    "    u, s, vh = np.linalg.svd(M)\n",
    "    R = u @ vh\n",
    "    original = R @ (original - modify_mean @ np.ones(\n",
    "        [1, original.shape[1]])) + fixed_mean@np.ones([1, original.shape[1]])\n",
    "    return original[0] + 1j*original[1]\n",
    "\n",
    "def make_D_ensembles(y, number_of_anchors):\n",
    "    num_elements = int((number_of_anchors+2)* (number_of_anchors+1) * 0.5)\n",
    "    \n",
    "    trials = y.shape[1]\n",
    "    dim = number_of_anchors+2\n",
    "    all_D_oracles_x = np.zeros([trials, dim, dim])\n",
    "    \n",
    "    ind = np.triu_indices(all_D_oracles_x[0].shape[0], k=1)\n",
    "    for i in range(trials):\n",
    "        data = y[0:num_elements,i]\n",
    "        all_D_oracles_x[i][ind] = data\n",
    "        all_D_oracles_x[i] += all_D_oracles_x[i].T\n",
    "        \n",
    "    return all_D_oracles_x\n",
    "\n",
    "def interfere_with_anchors(n, x, anchors):\n",
    "    interfered = anchors - x\n",
    "    interfered = np.vstack((interfered, x)) # x with zero (zero is less than x so subtract the other way)\n",
    "    \n",
    "    anchors = np.vstack((anchors, np.zeros(n))) # zero is an anchor too\n",
    "    \n",
    "    for i in range(anchors.shape[0]-1):\n",
    "        diffs = anchors[i] - anchors[1+i:]\n",
    "        interfered = np.vstack((interfered, diffs))\n",
    "    \n",
    "    return interfered"
   ]
  },
  {
   "cell_type": "code",
   "execution_count": 3,
   "metadata": {},
   "outputs": [],
   "source": [
    "def get_OPU_measurements(opu_input, num_rand_proj):\n",
    "    opu = OPU(500, 100) # exposure needs to be chosen so that there is no saturation.\n",
    "    mapping = OPURandomMapping(opu, n_components=num_rand_proj)\n",
    "    y = mapping.fit_transform(opu_input.astype('uint8'))\n",
    "    print (y.shape)\n",
    "    print (np.max(y))\n",
    "    print (np.min(y))\n",
    "    \n",
    "    return y\n",
    "\n",
    "def make_anchors(X, number_of_anchors):\n",
    "    X_sum = np.sum(X.copy(), axis=0)\n",
    "    X_sum[X_sum>0] = 1\n",
    "    \n",
    "    anchors = np.zeros([number_of_anchors, X.shape[1]])\n",
    "    \n",
    "    anchor_p = [0.85,0.15]\n",
    "    \n",
    "    anchors[0] = np.random.choice([0,1], size=X.shape[1], p=anchor_p) + X_sum\n",
    "    \n",
    "    for i in range(1, number_of_anchors):\n",
    "        anchors[i] = np.random.choice([0,1], size=X.shape[1], p=anchor_p) + anchors[i-1]\n",
    "\n",
    "    anchors[anchors>0] = 1\n",
    "    anchors = anchors[::-1] # for my convenience\n",
    "    \n",
    "    return anchors\n",
    "\n",
    "def opu_projection(X, k):   \n",
    "    number_of_anchors = 5\n",
    "    \n",
    "    anchors = make_anchors(X, number_of_anchors)\n",
    "\n",
    "    x = np.zeros([1, X.shape[1]])\n",
    "    opu_input = interfere_with_anchors(X.shape[1], x, anchors)\n",
    "    anchors_input_size = opu_input.shape[0]\n",
    "    \n",
    "    for i in range(X.shape[0]):\n",
    "        x = X[i]#.reshape([1,-1])\n",
    "        opu_input = np.vstack((opu_input, interfere_with_anchors(X.shape[1], x, anchors)))\n",
    "    \n",
    "    num_of_rows_in_A = k\n",
    "    print('Getting OPU data')\n",
    "    y_quant = get_OPU_measurements(opu_input, num_of_rows_in_A)\n",
    "    print('Got OPU data')\n",
    "    \n",
    "    # localise anchors\n",
    "    anchor_positions = np.zeros([num_of_rows_in_A, number_of_anchors+2]).astype('complex128')\n",
    "    all_D_quant = make_D_ensembles(y_quant[:anchors_input_size], number_of_anchors)\n",
    "    for i in range(num_of_rows_in_A):\n",
    "        anchor_positions[i] = do_MDS(all_D_quant[i], number_of_anchors)\n",
    "        \n",
    "    # localise other points\n",
    "    results = np.ones([X.shape[0], num_of_rows_in_A]).astype('complex128')\n",
    "    for i in range(X.shape[0]):\n",
    "        all_D_quant = make_D_ensembles(y_quant[(i+1)*anchors_input_size:(i+2)*anchors_input_size], number_of_anchors)\n",
    "        for row in range(num_of_rows_in_A):\n",
    "            recovered_points = do_MDS(all_D_quant[row], number_of_anchors)\n",
    "            recovered_points = ortho_procrustes(anchor_positions[row], recovered_points)\n",
    "            results[i, row] = recovered_points[0]\n",
    "    \n",
    "    return results\n",
    "\n",
    "def randsvd(M, k):\n",
    "    m, n = M.shape\n",
    "    \n",
    "    Y = opu_projection(M, k)\n",
    "    Y = cconj(Y)\n",
    "    Y = np.vstack((np.real(Y), np.imag(Y)))\n",
    "    Y = cconj(Y)\n",
    "    \n",
    "    Q = lg.orth(Y)\n",
    "    B = (cconj(Q)) @ M\n",
    "    U_tilde, s, Vh = lg.svd(B, full_matrices=False)\n",
    "    U = Q @ U_tilde\n",
    "    return U, s, Vh"
   ]
  },
  {
   "cell_type": "code",
   "execution_count": 4,
   "metadata": {},
   "outputs": [],
   "source": [
    "def trials():\n",
    "    num_trials = 10\n",
    "    ks = 10\n",
    "    \n",
    "    errors = np.zeros([ks, num_trials])\n",
    "    \n",
    "    for k in tqdm(range(1,ks+1)):\n",
    "        for trial in range(num_trials):\n",
    "    \n",
    "            m = 10\n",
    "            n = 10000\n",
    "            M = np.random.choice([0,1], size=[m, n], p=[0.8,0.2])\n",
    "            U, s, Vh = randsvd(M, k=k)\n",
    "            error = lg.norm(M - U @ np.diag(s) @ Vh) / M.size\n",
    "            errors[k-1, trial] = error\n",
    "    \n",
    "    return M, np.real(U @ np.diag(s) @ Vh), errors"
   ]
  },
  {
   "cell_type": "code",
   "execution_count": null,
   "metadata": {
    "scrolled": true
   },
   "outputs": [
    {
     "name": "stderr",
     "output_type": "stream",
     "text": [
      "\r",
      "  0%|          | 0/10 [00:00<?, ?it/s]"
     ]
    },
    {
     "name": "stdout",
     "output_type": "stream",
     "text": [
      "Getting OPU data\n"
     ]
    },
    {
     "name": "stderr",
     "output_type": "stream",
     "text": [
      "\n",
      "OPU transform:   0%|          | 0/231 [00:00<?, ?it/s]\u001b[A"
     ]
    },
    {
     "name": "stdout",
     "output_type": "stream",
     "text": [
      "OPU: random projections of an array of size (231,10000)\n"
     ]
    },
    {
     "name": "stderr",
     "output_type": "stream",
     "text": [
      "\n",
      "OPU transform: 100%|██████████| 231/231 [00:00<00:00, 235.30it/s]\u001b[A"
     ]
    },
    {
     "name": "stdout",
     "output_type": "stream",
     "text": [
      "(231, 1)\n",
      "255\n",
      "5\n",
      "Got OPU data\n",
      "Getting OPU data\n"
     ]
    },
    {
     "name": "stderr",
     "output_type": "stream",
     "text": [
      "\n",
      "OPU transform:   0%|          | 0/231 [00:00<?, ?it/s]\u001b[A"
     ]
    },
    {
     "name": "stdout",
     "output_type": "stream",
     "text": [
      "OPU: random projections of an array of size (231,10000)\n"
     ]
    },
    {
     "name": "stderr",
     "output_type": "stream",
     "text": [
      "\n",
      "OPU transform: 100%|██████████| 231/231 [00:00<00:00, 245.86it/s]\u001b[A"
     ]
    },
    {
     "name": "stdout",
     "output_type": "stream",
     "text": [
      "(231, 1)\n",
      "255\n",
      "5\n",
      "Got OPU data\n",
      "Getting OPU data\n"
     ]
    },
    {
     "name": "stderr",
     "output_type": "stream",
     "text": [
      "\n",
      "OPU transform:   0%|          | 0/231 [00:00<?, ?it/s]\u001b[A"
     ]
    },
    {
     "name": "stdout",
     "output_type": "stream",
     "text": [
      "OPU: random projections of an array of size (231,10000)\n"
     ]
    },
    {
     "name": "stderr",
     "output_type": "stream",
     "text": [
      "\n",
      "OPU transform: 100%|██████████| 231/231 [00:00<00:00, 236.38it/s]\u001b[A"
     ]
    },
    {
     "name": "stdout",
     "output_type": "stream",
     "text": [
      "(231, 1)\n",
      "255\n",
      "5\n",
      "Got OPU data\n",
      "Getting OPU data\n"
     ]
    },
    {
     "name": "stderr",
     "output_type": "stream",
     "text": [
      "\n",
      "OPU transform:   0%|          | 0/231 [00:00<?, ?it/s]\u001b[A"
     ]
    },
    {
     "name": "stdout",
     "output_type": "stream",
     "text": [
      "OPU: random projections of an array of size (231,10000)\n"
     ]
    },
    {
     "name": "stderr",
     "output_type": "stream",
     "text": [
      "\n",
      "OPU transform: 100%|██████████| 231/231 [00:00<00:00, 243.80it/s]\u001b[A"
     ]
    },
    {
     "name": "stdout",
     "output_type": "stream",
     "text": [
      "(231, 1)\n",
      "255\n",
      "5\n",
      "Got OPU data\n",
      "Getting OPU data\n"
     ]
    },
    {
     "name": "stderr",
     "output_type": "stream",
     "text": [
      "\n",
      "OPU transform:   0%|          | 0/231 [00:00<?, ?it/s]\u001b[A"
     ]
    },
    {
     "name": "stdout",
     "output_type": "stream",
     "text": [
      "OPU: random projections of an array of size (231,10000)\n"
     ]
    },
    {
     "name": "stderr",
     "output_type": "stream",
     "text": [
      "\n",
      "OPU transform: 100%|██████████| 231/231 [00:00<00:00, 242.42it/s]\u001b[A"
     ]
    },
    {
     "name": "stdout",
     "output_type": "stream",
     "text": [
      "(231, 1)\n",
      "255\n",
      "5\n",
      "Got OPU data\n",
      "Getting OPU data\n"
     ]
    },
    {
     "name": "stderr",
     "output_type": "stream",
     "text": [
      "\n",
      "OPU transform:   0%|          | 0/231 [00:00<?, ?it/s]\u001b[A"
     ]
    },
    {
     "name": "stdout",
     "output_type": "stream",
     "text": [
      "OPU: random projections of an array of size (231,10000)\n"
     ]
    },
    {
     "name": "stderr",
     "output_type": "stream",
     "text": [
      "\n",
      "OPU transform: 100%|██████████| 231/231 [00:00<00:00, 245.77it/s]\u001b[A"
     ]
    },
    {
     "name": "stdout",
     "output_type": "stream",
     "text": [
      "(231, 1)\n",
      "255\n",
      "5\n",
      "Got OPU data\n",
      "Getting OPU data\n"
     ]
    },
    {
     "name": "stderr",
     "output_type": "stream",
     "text": [
      "\n",
      "OPU transform:   0%|          | 0/231 [00:00<?, ?it/s]\u001b[A"
     ]
    },
    {
     "name": "stdout",
     "output_type": "stream",
     "text": [
      "OPU: random projections of an array of size (231,10000)\n"
     ]
    },
    {
     "name": "stderr",
     "output_type": "stream",
     "text": [
      "\n",
      "OPU transform: 100%|██████████| 231/231 [00:00<00:00, 237.53it/s]\u001b[A"
     ]
    },
    {
     "name": "stdout",
     "output_type": "stream",
     "text": [
      "(231, 1)\n",
      "255\n",
      "5\n",
      "Got OPU data\n",
      "Getting OPU data\n"
     ]
    },
    {
     "name": "stderr",
     "output_type": "stream",
     "text": [
      "\n",
      "OPU transform:   0%|          | 0/231 [00:00<?, ?it/s]\u001b[A"
     ]
    },
    {
     "name": "stdout",
     "output_type": "stream",
     "text": [
      "OPU: random projections of an array of size (231,10000)\n"
     ]
    },
    {
     "name": "stderr",
     "output_type": "stream",
     "text": [
      "\n",
      "OPU transform: 100%|██████████| 231/231 [00:00<00:00, 247.43it/s]\u001b[A"
     ]
    },
    {
     "name": "stdout",
     "output_type": "stream",
     "text": [
      "(231, 1)\n",
      "255\n",
      "5\n",
      "Got OPU data\n",
      "Getting OPU data\n"
     ]
    },
    {
     "name": "stderr",
     "output_type": "stream",
     "text": [
      "\n",
      "OPU transform:   0%|          | 0/231 [00:00<?, ?it/s]\u001b[A"
     ]
    },
    {
     "name": "stdout",
     "output_type": "stream",
     "text": [
      "OPU: random projections of an array of size (231,10000)\n"
     ]
    },
    {
     "name": "stderr",
     "output_type": "stream",
     "text": [
      "\n",
      "OPU transform: 100%|██████████| 231/231 [00:00<00:00, 240.69it/s]\u001b[A"
     ]
    },
    {
     "name": "stdout",
     "output_type": "stream",
     "text": [
      "(231, 1)\n",
      "255\n",
      "5\n",
      "Got OPU data\n",
      "Getting OPU data\n"
     ]
    },
    {
     "name": "stderr",
     "output_type": "stream",
     "text": [
      "\n",
      "OPU transform:   0%|          | 0/231 [00:00<?, ?it/s]\u001b[A"
     ]
    },
    {
     "name": "stdout",
     "output_type": "stream",
     "text": [
      "OPU: random projections of an array of size (231,10000)\n"
     ]
    },
    {
     "name": "stderr",
     "output_type": "stream",
     "text": [
      "\n",
      " 10%|█         | 1/10 [01:54<17:11, 114.64s/it]00:00, 235.42it/s]\u001b[A"
     ]
    },
    {
     "name": "stdout",
     "output_type": "stream",
     "text": [
      "(231, 1)\n",
      "255\n",
      "6\n",
      "Got OPU data\n",
      "Getting OPU data\n"
     ]
    },
    {
     "name": "stderr",
     "output_type": "stream",
     "text": [
      "\n",
      "OPU transform:   0%|          | 0/231 [00:00<?, ?it/s]\u001b[A"
     ]
    },
    {
     "name": "stdout",
     "output_type": "stream",
     "text": [
      "OPU: random projections of an array of size (231,10000)\n"
     ]
    },
    {
     "name": "stderr",
     "output_type": "stream",
     "text": [
      "\n",
      "OPU transform: 100%|██████████| 231/231 [00:00<00:00, 235.36it/s]\u001b[A"
     ]
    },
    {
     "name": "stdout",
     "output_type": "stream",
     "text": [
      "(231, 2)\n",
      "255\n",
      "5\n",
      "Got OPU data\n",
      "Getting OPU data\n"
     ]
    },
    {
     "name": "stderr",
     "output_type": "stream",
     "text": [
      "\n",
      "OPU transform:   0%|          | 0/231 [00:00<?, ?it/s]\u001b[A"
     ]
    },
    {
     "name": "stdout",
     "output_type": "stream",
     "text": [
      "OPU: random projections of an array of size (231,10000)\n"
     ]
    },
    {
     "name": "stderr",
     "output_type": "stream",
     "text": [
      "\n",
      "OPU transform: 100%|██████████| 231/231 [00:00<00:00, 246.00it/s]\u001b[A"
     ]
    },
    {
     "name": "stdout",
     "output_type": "stream",
     "text": [
      "(231, 2)\n",
      "255\n",
      "5\n",
      "Got OPU data\n",
      "Getting OPU data\n"
     ]
    },
    {
     "name": "stderr",
     "output_type": "stream",
     "text": [
      "\n",
      "OPU transform:   0%|          | 0/231 [00:00<?, ?it/s]\u001b[A"
     ]
    },
    {
     "name": "stdout",
     "output_type": "stream",
     "text": [
      "OPU: random projections of an array of size (231,10000)\n"
     ]
    },
    {
     "name": "stderr",
     "output_type": "stream",
     "text": [
      "\n",
      "OPU transform: 100%|██████████| 231/231 [00:00<00:00, 236.74it/s]\u001b[A"
     ]
    },
    {
     "name": "stdout",
     "output_type": "stream",
     "text": [
      "(231, 2)\n",
      "255\n",
      "5\n",
      "Got OPU data\n",
      "Getting OPU data\n"
     ]
    },
    {
     "name": "stderr",
     "output_type": "stream",
     "text": [
      "\n",
      "OPU transform:   0%|          | 0/231 [00:00<?, ?it/s]\u001b[A"
     ]
    },
    {
     "name": "stdout",
     "output_type": "stream",
     "text": [
      "OPU: random projections of an array of size (231,10000)\n"
     ]
    },
    {
     "name": "stderr",
     "output_type": "stream",
     "text": [
      "\n",
      "OPU transform: 100%|██████████| 231/231 [00:00<00:00, 234.42it/s]\u001b[A"
     ]
    },
    {
     "name": "stdout",
     "output_type": "stream",
     "text": [
      "(231, 2)\n",
      "255\n",
      "5\n",
      "Got OPU data\n",
      "Getting OPU data\n"
     ]
    },
    {
     "name": "stderr",
     "output_type": "stream",
     "text": [
      "\n",
      "OPU transform:   0%|          | 0/231 [00:00<?, ?it/s]\u001b[A"
     ]
    },
    {
     "name": "stdout",
     "output_type": "stream",
     "text": [
      "OPU: random projections of an array of size (231,10000)\n"
     ]
    },
    {
     "name": "stderr",
     "output_type": "stream",
     "text": [
      "\n",
      "OPU transform: 100%|██████████| 231/231 [00:00<00:00, 233.64it/s]\u001b[A"
     ]
    },
    {
     "name": "stdout",
     "output_type": "stream",
     "text": [
      "(231, 2)\n",
      "255\n",
      "5\n",
      "Got OPU data\n",
      "Getting OPU data\n"
     ]
    },
    {
     "name": "stderr",
     "output_type": "stream",
     "text": [
      "\n",
      "OPU transform:   0%|          | 0/231 [00:00<?, ?it/s]\u001b[A"
     ]
    },
    {
     "name": "stdout",
     "output_type": "stream",
     "text": [
      "OPU: random projections of an array of size (231,10000)\n"
     ]
    },
    {
     "name": "stderr",
     "output_type": "stream",
     "text": [
      "\n",
      "OPU transform: 100%|██████████| 231/231 [00:00<00:00, 266.37it/s]\u001b[A"
     ]
    },
    {
     "name": "stdout",
     "output_type": "stream",
     "text": [
      "(231, 2)\n",
      "255\n",
      "5\n",
      "Got OPU data\n",
      "Getting OPU data\n"
     ]
    },
    {
     "name": "stderr",
     "output_type": "stream",
     "text": [
      "\n",
      "OPU transform:   0%|          | 0/231 [00:00<?, ?it/s]\u001b[A"
     ]
    },
    {
     "name": "stdout",
     "output_type": "stream",
     "text": [
      "OPU: random projections of an array of size (231,10000)\n"
     ]
    },
    {
     "name": "stderr",
     "output_type": "stream",
     "text": [
      "\n",
      "OPU transform: 100%|██████████| 231/231 [00:00<00:00, 266.46it/s]\u001b[A"
     ]
    },
    {
     "name": "stdout",
     "output_type": "stream",
     "text": [
      "(231, 2)\n",
      "255\n",
      "5\n",
      "Got OPU data\n",
      "Getting OPU data\n"
     ]
    },
    {
     "name": "stderr",
     "output_type": "stream",
     "text": [
      "\n",
      "OPU transform:   0%|          | 0/231 [00:00<?, ?it/s]\u001b[A"
     ]
    },
    {
     "name": "stdout",
     "output_type": "stream",
     "text": [
      "OPU: random projections of an array of size (231,10000)\n"
     ]
    },
    {
     "name": "stderr",
     "output_type": "stream",
     "text": [
      "\n",
      "OPU transform: 100%|██████████| 231/231 [00:00<00:00, 234.85it/s]\u001b[A"
     ]
    },
    {
     "name": "stdout",
     "output_type": "stream",
     "text": [
      "(231, 2)\n",
      "255\n",
      "5\n",
      "Got OPU data\n",
      "Getting OPU data\n"
     ]
    },
    {
     "name": "stderr",
     "output_type": "stream",
     "text": [
      "\n",
      "OPU transform:   0%|          | 0/231 [00:00<?, ?it/s]\u001b[A"
     ]
    },
    {
     "name": "stdout",
     "output_type": "stream",
     "text": [
      "OPU: random projections of an array of size (231,10000)\n"
     ]
    },
    {
     "name": "stderr",
     "output_type": "stream",
     "text": [
      "\n",
      "OPU transform: 100%|██████████| 231/231 [00:00<00:00, 233.06it/s]\u001b[A"
     ]
    },
    {
     "name": "stdout",
     "output_type": "stream",
     "text": [
      "(231, 2)\n",
      "255\n",
      "5\n",
      "Got OPU data\n",
      "Getting OPU data\n"
     ]
    },
    {
     "name": "stderr",
     "output_type": "stream",
     "text": [
      "\n",
      "OPU transform:   0%|          | 0/231 [00:00<?, ?it/s]\u001b[A"
     ]
    },
    {
     "name": "stdout",
     "output_type": "stream",
     "text": [
      "OPU: random projections of an array of size (231,10000)\n"
     ]
    },
    {
     "name": "stderr",
     "output_type": "stream",
     "text": [
      "\n",
      " 20%|██        | 2/10 [03:49<15:16, 114.61s/it]00:00, 244.22it/s]\u001b[A"
     ]
    },
    {
     "name": "stdout",
     "output_type": "stream",
     "text": [
      "(231, 2)\n",
      "255\n",
      "6\n",
      "Got OPU data\n",
      "Getting OPU data\n"
     ]
    },
    {
     "name": "stderr",
     "output_type": "stream",
     "text": [
      "\n",
      "OPU transform:   0%|          | 0/231 [00:00<?, ?it/s]\u001b[A"
     ]
    },
    {
     "name": "stdout",
     "output_type": "stream",
     "text": [
      "OPU: random projections of an array of size (231,10000)\n"
     ]
    },
    {
     "name": "stderr",
     "output_type": "stream",
     "text": [
      "\n",
      "OPU transform: 100%|██████████| 231/231 [00:00<00:00, 236.21it/s]\u001b[A"
     ]
    },
    {
     "name": "stdout",
     "output_type": "stream",
     "text": [
      "(231, 3)\n",
      "255\n",
      "5\n",
      "Got OPU data\n",
      "Getting OPU data\n"
     ]
    },
    {
     "name": "stderr",
     "output_type": "stream",
     "text": [
      "\n",
      "OPU transform:   0%|          | 0/231 [00:00<?, ?it/s]\u001b[A"
     ]
    },
    {
     "name": "stdout",
     "output_type": "stream",
     "text": [
      "OPU: random projections of an array of size (231,10000)\n"
     ]
    },
    {
     "name": "stderr",
     "output_type": "stream",
     "text": [
      "\n",
      "OPU transform: 100%|██████████| 231/231 [00:00<00:00, 236.04it/s]\u001b[A"
     ]
    },
    {
     "name": "stdout",
     "output_type": "stream",
     "text": [
      "(231, 3)\n",
      "255\n",
      "5\n",
      "Got OPU data\n",
      "Getting OPU data\n"
     ]
    },
    {
     "name": "stderr",
     "output_type": "stream",
     "text": [
      "\n",
      "OPU transform:   0%|          | 0/231 [00:00<?, ?it/s]\u001b[A"
     ]
    },
    {
     "name": "stdout",
     "output_type": "stream",
     "text": [
      "OPU: random projections of an array of size (231,10000)\n"
     ]
    },
    {
     "name": "stderr",
     "output_type": "stream",
     "text": [
      "\n",
      "OPU transform: 100%|██████████| 231/231 [00:00<00:00, 238.38it/s]\u001b[A"
     ]
    },
    {
     "name": "stdout",
     "output_type": "stream",
     "text": [
      "(231, 3)\n",
      "255\n",
      "5\n",
      "Got OPU data\n",
      "Getting OPU data\n"
     ]
    },
    {
     "name": "stderr",
     "output_type": "stream",
     "text": [
      "\n",
      "OPU transform:   0%|          | 0/231 [00:00<?, ?it/s]\u001b[A"
     ]
    },
    {
     "name": "stdout",
     "output_type": "stream",
     "text": [
      "OPU: random projections of an array of size (231,10000)\n"
     ]
    },
    {
     "name": "stderr",
     "output_type": "stream",
     "text": [
      "\n",
      "OPU transform: 100%|██████████| 231/231 [00:00<00:00, 234.83it/s]\u001b[A"
     ]
    },
    {
     "name": "stdout",
     "output_type": "stream",
     "text": [
      "(231, 3)\n",
      "255\n",
      "5\n",
      "Got OPU data\n",
      "Getting OPU data\n"
     ]
    },
    {
     "name": "stderr",
     "output_type": "stream",
     "text": [
      "\n",
      "OPU transform:   0%|          | 0/231 [00:00<?, ?it/s]\u001b[A"
     ]
    },
    {
     "name": "stdout",
     "output_type": "stream",
     "text": [
      "OPU: random projections of an array of size (231,10000)\n"
     ]
    },
    {
     "name": "stderr",
     "output_type": "stream",
     "text": [
      "\n",
      "OPU transform: 100%|██████████| 231/231 [00:00<00:00, 236.86it/s]\u001b[A"
     ]
    },
    {
     "name": "stdout",
     "output_type": "stream",
     "text": [
      "(231, 3)\n",
      "255\n",
      "5\n",
      "Got OPU data\n",
      "Getting OPU data\n"
     ]
    },
    {
     "name": "stderr",
     "output_type": "stream",
     "text": [
      "\n",
      "OPU transform:   0%|          | 0/231 [00:00<?, ?it/s]\u001b[A"
     ]
    },
    {
     "name": "stdout",
     "output_type": "stream",
     "text": [
      "OPU: random projections of an array of size (231,10000)\n"
     ]
    },
    {
     "name": "stderr",
     "output_type": "stream",
     "text": [
      "\n",
      "OPU transform: 100%|██████████| 231/231 [00:00<00:00, 239.89it/s]\u001b[A"
     ]
    },
    {
     "name": "stdout",
     "output_type": "stream",
     "text": [
      "(231, 3)\n",
      "255\n",
      "5\n",
      "Got OPU data\n",
      "Getting OPU data\n"
     ]
    },
    {
     "name": "stderr",
     "output_type": "stream",
     "text": [
      "\n",
      "OPU transform:   0%|          | 0/231 [00:00<?, ?it/s]\u001b[A"
     ]
    },
    {
     "name": "stdout",
     "output_type": "stream",
     "text": [
      "OPU: random projections of an array of size (231,10000)\n"
     ]
    },
    {
     "name": "stderr",
     "output_type": "stream",
     "text": [
      "\n",
      "OPU transform: 100%|██████████| 231/231 [00:00<00:00, 235.99it/s]\u001b[A"
     ]
    },
    {
     "name": "stdout",
     "output_type": "stream",
     "text": [
      "(231, 3)\n",
      "255\n",
      "5\n",
      "Got OPU data\n",
      "Getting OPU data\n"
     ]
    },
    {
     "name": "stderr",
     "output_type": "stream",
     "text": [
      "\n",
      "OPU transform:   0%|          | 0/231 [00:00<?, ?it/s]\u001b[A"
     ]
    },
    {
     "name": "stdout",
     "output_type": "stream",
     "text": [
      "OPU: random projections of an array of size (231,10000)\n"
     ]
    },
    {
     "name": "stderr",
     "output_type": "stream",
     "text": [
      "\n",
      "OPU transform: 100%|██████████| 231/231 [00:00<00:00, 235.47it/s]\u001b[A"
     ]
    },
    {
     "name": "stdout",
     "output_type": "stream",
     "text": [
      "(231, 3)\n",
      "255\n",
      "5\n",
      "Got OPU data\n",
      "Getting OPU data\n"
     ]
    },
    {
     "name": "stderr",
     "output_type": "stream",
     "text": [
      "\n",
      "OPU transform:   0%|          | 0/231 [00:00<?, ?it/s]\u001b[A"
     ]
    },
    {
     "name": "stdout",
     "output_type": "stream",
     "text": [
      "OPU: random projections of an array of size (231,10000)\n"
     ]
    },
    {
     "name": "stderr",
     "output_type": "stream",
     "text": [
      "\n",
      "OPU transform: 100%|██████████| 231/231 [00:00<00:00, 246.75it/s]\u001b[A"
     ]
    },
    {
     "name": "stdout",
     "output_type": "stream",
     "text": [
      "(231, 3)\n",
      "255\n",
      "5\n",
      "Got OPU data\n",
      "Getting OPU data\n"
     ]
    },
    {
     "name": "stderr",
     "output_type": "stream",
     "text": [
      "\n",
      "OPU transform:   0%|          | 0/231 [00:00<?, ?it/s]\u001b[A"
     ]
    },
    {
     "name": "stdout",
     "output_type": "stream",
     "text": [
      "OPU: random projections of an array of size (231,10000)\n"
     ]
    },
    {
     "name": "stderr",
     "output_type": "stream",
     "text": [
      "\n",
      " 30%|███       | 3/10 [05:43<13:22, 114.66s/it]00:00, 250.90it/s]\u001b[A"
     ]
    },
    {
     "name": "stdout",
     "output_type": "stream",
     "text": [
      "(231, 3)\n",
      "255\n",
      "5\n",
      "Got OPU data\n",
      "Getting OPU data\n"
     ]
    },
    {
     "name": "stderr",
     "output_type": "stream",
     "text": [
      "\n",
      "OPU transform:   0%|          | 0/231 [00:00<?, ?it/s]\u001b[A"
     ]
    },
    {
     "name": "stdout",
     "output_type": "stream",
     "text": [
      "OPU: random projections of an array of size (231,10000)\n"
     ]
    },
    {
     "name": "stderr",
     "output_type": "stream",
     "text": [
      "\n",
      "OPU transform: 100%|██████████| 231/231 [00:00<00:00, 261.17it/s]\u001b[A"
     ]
    },
    {
     "name": "stdout",
     "output_type": "stream",
     "text": [
      "(231, 4)\n",
      "255\n",
      "5\n",
      "Got OPU data\n",
      "Getting OPU data\n"
     ]
    },
    {
     "name": "stderr",
     "output_type": "stream",
     "text": [
      "\n",
      "OPU transform:   0%|          | 0/231 [00:00<?, ?it/s]\u001b[A"
     ]
    },
    {
     "name": "stdout",
     "output_type": "stream",
     "text": [
      "OPU: random projections of an array of size (231,10000)\n"
     ]
    },
    {
     "name": "stderr",
     "output_type": "stream",
     "text": [
      "\n",
      "OPU transform: 100%|██████████| 231/231 [00:00<00:00, 234.83it/s]\u001b[A"
     ]
    },
    {
     "name": "stdout",
     "output_type": "stream",
     "text": [
      "(231, 4)\n",
      "255\n",
      "5\n",
      "Got OPU data\n",
      "Getting OPU data\n"
     ]
    },
    {
     "name": "stderr",
     "output_type": "stream",
     "text": [
      "\n",
      "OPU transform:   0%|          | 0/231 [00:00<?, ?it/s]\u001b[A"
     ]
    },
    {
     "name": "stdout",
     "output_type": "stream",
     "text": [
      "OPU: random projections of an array of size (231,10000)\n"
     ]
    },
    {
     "name": "stderr",
     "output_type": "stream",
     "text": [
      "\n",
      "OPU transform: 100%|██████████| 231/231 [00:00<00:00, 242.27it/s]\u001b[A"
     ]
    },
    {
     "name": "stdout",
     "output_type": "stream",
     "text": [
      "(231, 4)\n",
      "255\n",
      "5\n",
      "Got OPU data\n",
      "Getting OPU data\n"
     ]
    },
    {
     "name": "stderr",
     "output_type": "stream",
     "text": [
      "\n",
      "OPU transform:   0%|          | 0/231 [00:00<?, ?it/s]\u001b[A"
     ]
    },
    {
     "name": "stdout",
     "output_type": "stream",
     "text": [
      "OPU: random projections of an array of size (231,10000)\n"
     ]
    },
    {
     "name": "stderr",
     "output_type": "stream",
     "text": [
      "\n",
      "OPU transform: 100%|██████████| 231/231 [00:00<00:00, 241.56it/s]\u001b[A"
     ]
    },
    {
     "name": "stdout",
     "output_type": "stream",
     "text": [
      "(231, 4)\n",
      "255\n",
      "5\n",
      "Got OPU data\n",
      "Getting OPU data\n"
     ]
    },
    {
     "name": "stderr",
     "output_type": "stream",
     "text": [
      "\n",
      "OPU transform:   0%|          | 0/231 [00:00<?, ?it/s]\u001b[A"
     ]
    },
    {
     "name": "stdout",
     "output_type": "stream",
     "text": [
      "OPU: random projections of an array of size (231,10000)\n"
     ]
    },
    {
     "name": "stderr",
     "output_type": "stream",
     "text": [
      "\n",
      "OPU transform: 100%|██████████| 231/231 [00:00<00:00, 234.33it/s]\u001b[A"
     ]
    },
    {
     "name": "stdout",
     "output_type": "stream",
     "text": [
      "(231, 4)\n",
      "255\n",
      "5\n",
      "Got OPU data\n",
      "Getting OPU data\n"
     ]
    },
    {
     "name": "stderr",
     "output_type": "stream",
     "text": [
      "\n",
      "OPU transform:   0%|          | 0/231 [00:00<?, ?it/s]\u001b[A"
     ]
    },
    {
     "name": "stdout",
     "output_type": "stream",
     "text": [
      "OPU: random projections of an array of size (231,10000)\n"
     ]
    },
    {
     "name": "stderr",
     "output_type": "stream",
     "text": [
      "\n",
      "OPU transform: 100%|██████████| 231/231 [00:00<00:00, 239.04it/s]\u001b[A"
     ]
    },
    {
     "name": "stdout",
     "output_type": "stream",
     "text": [
      "(231, 4)\n",
      "255\n",
      "5\n",
      "Got OPU data\n",
      "Getting OPU data\n"
     ]
    },
    {
     "name": "stderr",
     "output_type": "stream",
     "text": [
      "\n",
      "OPU transform:   0%|          | 0/231 [00:00<?, ?it/s]\u001b[A"
     ]
    },
    {
     "name": "stdout",
     "output_type": "stream",
     "text": [
      "OPU: random projections of an array of size (231,10000)\n"
     ]
    },
    {
     "name": "stderr",
     "output_type": "stream",
     "text": [
      "\n",
      "OPU transform: 100%|██████████| 231/231 [00:00<00:00, 245.81it/s]\u001b[A"
     ]
    },
    {
     "name": "stdout",
     "output_type": "stream",
     "text": [
      "(231, 4)\n",
      "255\n",
      "5\n",
      "Got OPU data\n",
      "Getting OPU data\n"
     ]
    },
    {
     "name": "stderr",
     "output_type": "stream",
     "text": [
      "\n",
      "OPU transform:   0%|          | 0/231 [00:00<?, ?it/s]\u001b[A"
     ]
    },
    {
     "name": "stdout",
     "output_type": "stream",
     "text": [
      "OPU: random projections of an array of size (231,10000)\n"
     ]
    },
    {
     "name": "stderr",
     "output_type": "stream",
     "text": [
      "\n",
      "OPU transform: 100%|██████████| 231/231 [00:00<00:00, 237.90it/s]\u001b[A"
     ]
    },
    {
     "name": "stdout",
     "output_type": "stream",
     "text": [
      "(231, 4)\n",
      "255\n",
      "5\n",
      "Got OPU data\n",
      "Getting OPU data\n"
     ]
    },
    {
     "name": "stderr",
     "output_type": "stream",
     "text": [
      "\n",
      "OPU transform:   0%|          | 0/231 [00:00<?, ?it/s]\u001b[A"
     ]
    },
    {
     "name": "stdout",
     "output_type": "stream",
     "text": [
      "OPU: random projections of an array of size (231,10000)\n"
     ]
    },
    {
     "name": "stderr",
     "output_type": "stream",
     "text": [
      "\n",
      "OPU transform: 100%|██████████| 231/231 [00:00<00:00, 241.56it/s]\u001b[A"
     ]
    },
    {
     "name": "stdout",
     "output_type": "stream",
     "text": [
      "(231, 4)\n",
      "255\n",
      "5\n",
      "Got OPU data\n",
      "Getting OPU data\n"
     ]
    },
    {
     "name": "stderr",
     "output_type": "stream",
     "text": [
      "\n",
      "OPU transform:   0%|          | 0/231 [00:00<?, ?it/s]\u001b[A"
     ]
    },
    {
     "name": "stdout",
     "output_type": "stream",
     "text": [
      "OPU: random projections of an array of size (231,10000)\n"
     ]
    },
    {
     "name": "stderr",
     "output_type": "stream",
     "text": [
      "\n",
      " 40%|████      | 4/10 [07:36<11:23, 113.89s/it]00:00, 238.26it/s]\u001b[A"
     ]
    },
    {
     "name": "stdout",
     "output_type": "stream",
     "text": [
      "(231, 4)\n",
      "255\n",
      "5\n",
      "Got OPU data\n",
      "Getting OPU data\n"
     ]
    },
    {
     "name": "stderr",
     "output_type": "stream",
     "text": [
      "\n",
      "OPU transform:   0%|          | 0/231 [00:00<?, ?it/s]\u001b[A"
     ]
    },
    {
     "name": "stdout",
     "output_type": "stream",
     "text": [
      "OPU: random projections of an array of size (231,10000)\n"
     ]
    },
    {
     "name": "stderr",
     "output_type": "stream",
     "text": [
      "\n",
      "OPU transform: 100%|██████████| 231/231 [00:00<00:00, 249.01it/s]\u001b[A"
     ]
    },
    {
     "name": "stdout",
     "output_type": "stream",
     "text": [
      "(231, 5)\n",
      "255\n",
      "5\n",
      "Got OPU data\n",
      "Getting OPU data\n"
     ]
    },
    {
     "name": "stderr",
     "output_type": "stream",
     "text": [
      "\n",
      "OPU transform:   0%|          | 0/231 [00:00<?, ?it/s]\u001b[A"
     ]
    },
    {
     "name": "stdout",
     "output_type": "stream",
     "text": [
      "OPU: random projections of an array of size (231,10000)\n"
     ]
    },
    {
     "name": "stderr",
     "output_type": "stream",
     "text": [
      "\n",
      "OPU transform: 100%|██████████| 231/231 [00:00<00:00, 254.14it/s]\u001b[A"
     ]
    },
    {
     "name": "stdout",
     "output_type": "stream",
     "text": [
      "(231, 5)\n",
      "255\n",
      "5\n",
      "Got OPU data\n",
      "Getting OPU data\n"
     ]
    },
    {
     "name": "stderr",
     "output_type": "stream",
     "text": [
      "\n",
      "OPU transform:   0%|          | 0/231 [00:00<?, ?it/s]\u001b[A"
     ]
    },
    {
     "name": "stdout",
     "output_type": "stream",
     "text": [
      "OPU: random projections of an array of size (231,10000)\n"
     ]
    },
    {
     "name": "stderr",
     "output_type": "stream",
     "text": [
      "\n",
      "OPU transform: 100%|██████████| 231/231 [00:00<00:00, 237.20it/s]\u001b[A"
     ]
    },
    {
     "name": "stdout",
     "output_type": "stream",
     "text": [
      "(231, 5)\n",
      "255\n",
      "5\n",
      "Got OPU data\n",
      "Getting OPU data\n"
     ]
    },
    {
     "name": "stderr",
     "output_type": "stream",
     "text": [
      "\n",
      "OPU transform:   0%|          | 0/231 [00:00<?, ?it/s]\u001b[A"
     ]
    },
    {
     "name": "stdout",
     "output_type": "stream",
     "text": [
      "OPU: random projections of an array of size (231,10000)\n"
     ]
    },
    {
     "name": "stderr",
     "output_type": "stream",
     "text": [
      "\n",
      "OPU transform: 100%|██████████| 231/231 [00:00<00:00, 253.72it/s]\u001b[A"
     ]
    },
    {
     "name": "stdout",
     "output_type": "stream",
     "text": [
      "(231, 5)\n",
      "255\n",
      "5\n",
      "Got OPU data\n",
      "Getting OPU data\n"
     ]
    },
    {
     "name": "stderr",
     "output_type": "stream",
     "text": [
      "\n",
      "OPU transform:   0%|          | 0/231 [00:00<?, ?it/s]\u001b[A"
     ]
    },
    {
     "name": "stdout",
     "output_type": "stream",
     "text": [
      "OPU: random projections of an array of size (231,10000)\n"
     ]
    },
    {
     "name": "stderr",
     "output_type": "stream",
     "text": [
      "\n",
      "OPU transform: 100%|██████████| 231/231 [00:00<00:00, 237.38it/s]\u001b[A"
     ]
    },
    {
     "name": "stdout",
     "output_type": "stream",
     "text": [
      "(231, 5)\n",
      "255\n",
      "5\n",
      "Got OPU data\n",
      "Getting OPU data\n"
     ]
    },
    {
     "name": "stderr",
     "output_type": "stream",
     "text": [
      "\n",
      "OPU transform:   0%|          | 0/231 [00:00<?, ?it/s]\u001b[A"
     ]
    },
    {
     "name": "stdout",
     "output_type": "stream",
     "text": [
      "OPU: random projections of an array of size (231,10000)\n"
     ]
    },
    {
     "name": "stderr",
     "output_type": "stream",
     "text": [
      "\n",
      "OPU transform: 100%|██████████| 231/231 [00:00<00:00, 245.71it/s]\u001b[A"
     ]
    },
    {
     "name": "stdout",
     "output_type": "stream",
     "text": [
      "(231, 5)\n",
      "255\n",
      "5\n",
      "Got OPU data\n",
      "Getting OPU data\n"
     ]
    },
    {
     "name": "stderr",
     "output_type": "stream",
     "text": [
      "\n",
      "OPU transform:   0%|          | 0/231 [00:00<?, ?it/s]\u001b[A"
     ]
    },
    {
     "name": "stdout",
     "output_type": "stream",
     "text": [
      "OPU: random projections of an array of size (231,10000)\n"
     ]
    },
    {
     "name": "stderr",
     "output_type": "stream",
     "text": [
      "\n",
      "OPU transform: 100%|██████████| 231/231 [00:00<00:00, 237.41it/s]\u001b[A"
     ]
    },
    {
     "name": "stdout",
     "output_type": "stream",
     "text": [
      "(231, 5)\n",
      "255\n",
      "5\n",
      "Got OPU data\n",
      "Getting OPU data\n"
     ]
    },
    {
     "name": "stderr",
     "output_type": "stream",
     "text": [
      "\n",
      "OPU transform:   0%|          | 0/231 [00:00<?, ?it/s]\u001b[A"
     ]
    },
    {
     "name": "stdout",
     "output_type": "stream",
     "text": [
      "OPU: random projections of an array of size (231,10000)\n"
     ]
    },
    {
     "name": "stderr",
     "output_type": "stream",
     "text": [
      "\n",
      "OPU transform: 100%|██████████| 231/231 [00:00<00:00, 242.80it/s]\u001b[A"
     ]
    },
    {
     "name": "stdout",
     "output_type": "stream",
     "text": [
      "(231, 5)\n",
      "255\n",
      "5\n",
      "Got OPU data\n",
      "Getting OPU data\n"
     ]
    },
    {
     "name": "stderr",
     "output_type": "stream",
     "text": [
      "\n",
      "OPU transform:   0%|          | 0/231 [00:00<?, ?it/s]\u001b[A"
     ]
    },
    {
     "name": "stdout",
     "output_type": "stream",
     "text": [
      "OPU: random projections of an array of size (231,10000)\n"
     ]
    },
    {
     "name": "stderr",
     "output_type": "stream",
     "text": [
      "\n",
      "OPU transform: 100%|██████████| 231/231 [00:00<00:00, 244.72it/s]\u001b[A"
     ]
    },
    {
     "name": "stdout",
     "output_type": "stream",
     "text": [
      "(231, 5)\n",
      "255\n",
      "5\n",
      "Got OPU data\n",
      "Getting OPU data\n"
     ]
    },
    {
     "name": "stderr",
     "output_type": "stream",
     "text": [
      "\n",
      "OPU transform:   0%|          | 0/231 [00:00<?, ?it/s]\u001b[A"
     ]
    },
    {
     "name": "stdout",
     "output_type": "stream",
     "text": [
      "OPU: random projections of an array of size (231,10000)\n"
     ]
    },
    {
     "name": "stderr",
     "output_type": "stream",
     "text": [
      "\n",
      " 50%|█████     | 5/10 [09:33<09:34, 114.89s/it]00:00, 245.38it/s]\u001b[A"
     ]
    },
    {
     "name": "stdout",
     "output_type": "stream",
     "text": [
      "(231, 5)\n",
      "255\n",
      "5\n",
      "Got OPU data\n",
      "Getting OPU data\n"
     ]
    },
    {
     "name": "stderr",
     "output_type": "stream",
     "text": [
      "\n",
      "OPU transform:   0%|          | 0/231 [00:00<?, ?it/s]\u001b[A"
     ]
    },
    {
     "name": "stdout",
     "output_type": "stream",
     "text": [
      "OPU: random projections of an array of size (231,10000)\n"
     ]
    },
    {
     "name": "stderr",
     "output_type": "stream",
     "text": [
      "\n",
      "OPU transform: 100%|██████████| 231/231 [00:00<00:00, 241.53it/s]\u001b[A"
     ]
    },
    {
     "name": "stdout",
     "output_type": "stream",
     "text": [
      "(231, 6)\n",
      "255\n",
      "5\n",
      "Got OPU data\n",
      "Getting OPU data\n"
     ]
    },
    {
     "name": "stderr",
     "output_type": "stream",
     "text": [
      "\n",
      "OPU transform:   0%|          | 0/231 [00:00<?, ?it/s]\u001b[A"
     ]
    },
    {
     "name": "stdout",
     "output_type": "stream",
     "text": [
      "OPU: random projections of an array of size (231,10000)\n"
     ]
    },
    {
     "name": "stderr",
     "output_type": "stream",
     "text": [
      "\n",
      "OPU transform: 100%|██████████| 231/231 [00:00<00:00, 238.80it/s]\u001b[A"
     ]
    },
    {
     "name": "stdout",
     "output_type": "stream",
     "text": [
      "(231, 6)\n",
      "255\n",
      "5\n",
      "Got OPU data\n",
      "Getting OPU data\n"
     ]
    },
    {
     "name": "stderr",
     "output_type": "stream",
     "text": [
      "\n",
      "OPU transform:   0%|          | 0/231 [00:00<?, ?it/s]\u001b[A"
     ]
    },
    {
     "name": "stdout",
     "output_type": "stream",
     "text": [
      "OPU: random projections of an array of size (231,10000)\n"
     ]
    },
    {
     "name": "stderr",
     "output_type": "stream",
     "text": [
      "\n",
      "OPU transform: 100%|██████████| 231/231 [00:00<00:00, 235.89it/s]\u001b[A"
     ]
    },
    {
     "name": "stdout",
     "output_type": "stream",
     "text": [
      "(231, 6)\n",
      "255\n",
      "4\n",
      "Got OPU data\n",
      "Getting OPU data\n"
     ]
    },
    {
     "name": "stderr",
     "output_type": "stream",
     "text": [
      "\n",
      "OPU transform:   0%|          | 0/231 [00:00<?, ?it/s]\u001b[A"
     ]
    },
    {
     "name": "stdout",
     "output_type": "stream",
     "text": [
      "OPU: random projections of an array of size (231,10000)\n"
     ]
    },
    {
     "name": "stderr",
     "output_type": "stream",
     "text": [
      "\n",
      "OPU transform: 100%|██████████| 231/231 [00:00<00:00, 237.15it/s]\u001b[A"
     ]
    },
    {
     "name": "stdout",
     "output_type": "stream",
     "text": [
      "(231, 6)\n",
      "255\n",
      "5\n",
      "Got OPU data\n",
      "Getting OPU data\n"
     ]
    },
    {
     "name": "stderr",
     "output_type": "stream",
     "text": [
      "\n",
      "OPU transform:   0%|          | 0/231 [00:00<?, ?it/s]\u001b[A"
     ]
    },
    {
     "name": "stdout",
     "output_type": "stream",
     "text": [
      "OPU: random projections of an array of size (231,10000)\n"
     ]
    },
    {
     "name": "stderr",
     "output_type": "stream",
     "text": [
      "\n",
      "OPU transform: 100%|██████████| 231/231 [00:00<00:00, 236.44it/s]\u001b[A"
     ]
    },
    {
     "name": "stdout",
     "output_type": "stream",
     "text": [
      "(231, 6)\n",
      "255\n",
      "4\n",
      "Got OPU data\n",
      "Getting OPU data\n"
     ]
    },
    {
     "name": "stderr",
     "output_type": "stream",
     "text": [
      "\n",
      "OPU transform:   0%|          | 0/231 [00:00<?, ?it/s]\u001b[A"
     ]
    },
    {
     "name": "stdout",
     "output_type": "stream",
     "text": [
      "OPU: random projections of an array of size (231,10000)\n"
     ]
    },
    {
     "name": "stderr",
     "output_type": "stream",
     "text": [
      "\n",
      "OPU transform: 100%|██████████| 231/231 [00:00<00:00, 236.38it/s]\u001b[A"
     ]
    },
    {
     "name": "stdout",
     "output_type": "stream",
     "text": [
      "(231, 6)\n",
      "255\n",
      "5\n",
      "Got OPU data\n",
      "Getting OPU data\n"
     ]
    },
    {
     "name": "stderr",
     "output_type": "stream",
     "text": [
      "\n",
      "OPU transform:   0%|          | 0/231 [00:00<?, ?it/s]\u001b[A"
     ]
    },
    {
     "name": "stdout",
     "output_type": "stream",
     "text": [
      "OPU: random projections of an array of size (231,10000)\n"
     ]
    },
    {
     "name": "stderr",
     "output_type": "stream",
     "text": [
      "\n",
      "OPU transform: 100%|██████████| 231/231 [00:00<00:00, 241.70it/s]\u001b[A"
     ]
    },
    {
     "name": "stdout",
     "output_type": "stream",
     "text": [
      "(231, 6)\n",
      "255\n",
      "5\n",
      "Got OPU data\n",
      "Getting OPU data\n"
     ]
    },
    {
     "name": "stderr",
     "output_type": "stream",
     "text": [
      "\n",
      "OPU transform:   0%|          | 0/231 [00:00<?, ?it/s]\u001b[A"
     ]
    },
    {
     "name": "stdout",
     "output_type": "stream",
     "text": [
      "OPU: random projections of an array of size (231,10000)\n"
     ]
    },
    {
     "name": "stderr",
     "output_type": "stream",
     "text": [
      "\n",
      "OPU transform: 100%|██████████| 231/231 [00:00<00:00, 236.83it/s]\u001b[A"
     ]
    },
    {
     "name": "stdout",
     "output_type": "stream",
     "text": [
      "(231, 6)\n",
      "255\n",
      "5\n",
      "Got OPU data\n",
      "Getting OPU data\n"
     ]
    },
    {
     "name": "stderr",
     "output_type": "stream",
     "text": [
      "\n",
      "OPU transform:   0%|          | 0/231 [00:00<?, ?it/s]\u001b[A"
     ]
    },
    {
     "name": "stdout",
     "output_type": "stream",
     "text": [
      "OPU: random projections of an array of size (231,10000)\n"
     ]
    },
    {
     "name": "stderr",
     "output_type": "stream",
     "text": [
      "\n",
      "OPU transform: 100%|██████████| 231/231 [00:00<00:00, 235.99it/s]\u001b[A"
     ]
    },
    {
     "name": "stdout",
     "output_type": "stream",
     "text": [
      "(231, 6)\n",
      "255\n",
      "5\n",
      "Got OPU data\n",
      "Getting OPU data\n"
     ]
    },
    {
     "name": "stderr",
     "output_type": "stream",
     "text": [
      "\n",
      "OPU transform:   0%|          | 0/231 [00:00<?, ?it/s]\u001b[A"
     ]
    },
    {
     "name": "stdout",
     "output_type": "stream",
     "text": [
      "OPU: random projections of an array of size (231,10000)\n"
     ]
    },
    {
     "name": "stderr",
     "output_type": "stream",
     "text": [
      "\n",
      " 60%|██████    | 6/10 [11:28<07:39, 114.95s/it]00:00, 239.33it/s]\u001b[A"
     ]
    },
    {
     "name": "stdout",
     "output_type": "stream",
     "text": [
      "(231, 6)\n",
      "255\n",
      "5\n",
      "Got OPU data\n",
      "Getting OPU data\n"
     ]
    },
    {
     "name": "stderr",
     "output_type": "stream",
     "text": [
      "\n",
      "OPU transform:   0%|          | 0/231 [00:00<?, ?it/s]\u001b[A"
     ]
    },
    {
     "name": "stdout",
     "output_type": "stream",
     "text": [
      "OPU: random projections of an array of size (231,10000)\n"
     ]
    },
    {
     "name": "stderr",
     "output_type": "stream",
     "text": [
      "\n",
      "OPU transform: 100%|██████████| 231/231 [00:00<00:00, 233.90it/s]\u001b[A"
     ]
    },
    {
     "name": "stdout",
     "output_type": "stream",
     "text": [
      "(231, 7)\n",
      "255\n",
      "5\n",
      "Got OPU data\n",
      "Getting OPU data\n"
     ]
    }
   ],
   "source": [
    "B, B_rec, errors_ar = trials()"
   ]
  },
  {
   "cell_type": "code",
   "execution_count": null,
   "metadata": {},
   "outputs": [],
   "source": [
    "errors = np.mean(errors_ar, axis=1)\n",
    "plt.rcParams.update({'font.size': 14})\n",
    "plt.figure(figsize=(3.5,3.5))\n",
    "plt.plot(np.linspace(1,10, num=10), errors)\n",
    "plt.yscale('log')\n",
    "plt.ylabel('Average error per entry')\n",
    "plt.xlabel('Number of projections')\n",
    "plt.tight_layout()\n",
    "plt.savefig('svd_OPU_recon_error.pdf')\n",
    "print (errors)"
   ]
  },
  {
   "cell_type": "code",
   "execution_count": null,
   "metadata": {},
   "outputs": [],
   "source": [
    "from lightonml.datasets import MNIST\n",
    "from lightonml.encoding.base import BinaryThresholdEncoder\n",
    "\n",
    "def mnist_experiment():\n",
    "    # load data\n",
    "    (_, _), (X, _) = MNIST()\n",
    "    # encode data\n",
    "    encoder = BinaryThresholdEncoder()\n",
    "    X_encoded = encoder.transform(X)\n",
    "    \n",
    "    return X_encoded[:500]"
   ]
  },
  {
   "cell_type": "code",
   "execution_count": null,
   "metadata": {},
   "outputs": [],
   "source": [
    "M = mnist_experiment()\n",
    "U, s, Vh = randsvd(M, k=np.min(M.shape))\n",
    "error = lg.norm(M - U @ np.diag(s) @ Vh) / M.size"
   ]
  },
  {
   "cell_type": "code",
   "execution_count": null,
   "metadata": {},
   "outputs": [],
   "source": [
    "U_true, s_true, Vh_true = np.linalg.svd(M, full_matrices=False)"
   ]
  },
  {
   "cell_type": "code",
   "execution_count": null,
   "metadata": {
    "scrolled": false
   },
   "outputs": [],
   "source": [
    "n_svecs = 7\n",
    "\n",
    "plt.rcParams.update({'font.size': 9})\n",
    "plt.figure(figsize=(8, 2.5));\n",
    "for i in range(n_svecs):\n",
    "    fig = plt.subplot(2,n_svecs, 1+i)\n",
    "    phase = (Vh[i, 100]/ Vh_true[i, 100]) # rotation of system may be required\n",
    "    img = np.real(np.conj(phase)*Vh[i]).reshape([28,28])\n",
    "    plt.imshow(img, cmap='gray')\n",
    "    plt.xticks([])\n",
    "    plt.yticks([])\n",
    "    \n",
    "    fig = plt.subplot(2,n_svecs, n_svecs + 1+i)\n",
    "    img_true = (Vh_true[i]).reshape([28,28])\n",
    "    plt.imshow(img_true, cmap='gray')\n",
    "    plt.xticks([])\n",
    "    plt.yticks([])\n",
    "    rel_error = 100*np.linalg.norm(img-img_true) / np.linalg.norm(img_true)\n",
    "    plt.title('{:.2e}'.format(rel_error), y=-0.4)\n",
    "\n",
    "plt.tight_layout()"
   ]
  },
  {
   "cell_type": "code",
   "execution_count": null,
   "metadata": {},
   "outputs": [],
   "source": []
  }
 ],
 "metadata": {
  "kernelspec": {
   "display_name": "Python 3 (LightOn OPU)",
   "language": "python",
   "name": "lighton_python3"
  },
  "language_info": {
   "codemirror_mode": {
    "name": "ipython",
    "version": 3
   },
   "file_extension": ".py",
   "mimetype": "text/x-python",
   "name": "python",
   "nbconvert_exporter": "python",
   "pygments_lexer": "ipython3",
   "version": "3.5.2"
  }
 },
 "nbformat": 4,
 "nbformat_minor": 2
}
